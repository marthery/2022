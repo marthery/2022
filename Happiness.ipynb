{
  "cells": [
    {
      "cell_type": "markdown",
      "metadata": {
        "id": "view-in-github",
        "colab_type": "text"
      },
      "source": [
        "<a href=\"https://colab.research.google.com/github/marthery/2022/blob/main/Happiness.ipynb\" target=\"_parent\"><img src=\"https://colab.research.google.com/assets/colab-badge.svg\" alt=\"Open In Colab\"/></a>"
      ]
    },
    {
      "cell_type": "markdown",
      "metadata": {
        "id": "XTIxY8s8JIQ9"
      },
      "source": [
        "## Data from World Happiness Report\n",
        "\n",
        "The World Happiness Report is an annual publication of the United Nations Sustainable Development Solutions Network. It contains articles, and rankings of national happiness based on respondent ratings of their own lives, which the report also correlates with various life factors.\n",
        "\n",
        "In this notebook we will explore the happiness of different countries and the features associated.\n",
        "The datasets that we will use are available in *Data*: **happiness2020.pkl** and **countries_info.csv**.\n",
        "\n",
        "Although the features are self-explanatory, here a summary: \n",
        "\n",
        "**happiness2020.pkl**\n",
        "* country: *Name of the country*\n",
        "* happiness_score: *Happiness score*\n",
        "* social_support: *Social support (mitigation the effects of inequality)*\n",
        "* healthy_life_expectancy: *Healthy Life Expectancy*\n",
        "* freedom_of_choices: *Freedom to make life choices*\n",
        "* generosity: *Generosity (charity, volunteers)*\n",
        "* perception_of_corruption: *Corruption Perception*\n",
        "* world_region: *Area of the world of the country*\n",
        "\n",
        "**countries_info.csv**\n",
        "* country_name: *Name of the country*\n",
        "* area: *Area in sq mi*\n",
        "* population: *Number of people*\n",
        "* literacy: *Literacy percentage*"
      ]
    },
    {
      "cell_type": "code",
      "execution_count": 2,
      "metadata": {
        "colab": {
          "base_uri": "https://localhost:8080/"
        },
        "id": "QGTtJSvDJIRB",
        "outputId": "613cdb32-3457-4d9d-e22f-a3d1c6a74a5d"
      },
      "outputs": [
        {
          "output_type": "stream",
          "name": "stdout",
          "text": [
            "country_name,area,population,literacy\n",
            "afghanistan,647500,31056997,\"36,0\"\n",
            "albania,28748,3581655,\"86,5\"\n",
            "algeria,2381740,32930091,\"70,0\"\n",
            "argentina,2766890,39921833,\"97,1\"\n",
            "armenia,29800,2976372,\"98,6\"\n",
            "australia,7686850,20264082,\"100,0\"\n",
            "austria,83870,8192880,\"98,0\"\n",
            "azerbaijan,86600,7961619,\"97,0\"\n",
            "bahrain,665,698585,\"89,1\"\n"
          ]
        }
      ],
      "source": [
        "!head countries_info.csv"
      ]
    },
    {
      "cell_type": "code",
      "execution_count": 5,
      "metadata": {
        "id": "hFJx-M6dJIRD"
      },
      "outputs": [],
      "source": [
        "import pandas as pd\n",
        "%matplotlib inline\n",
        "\n",
        "DATA_FOLDER = ''\n",
        "\n",
        "HAPPINESS_DATASET = DATA_FOLDER+\"happiness2020.csv\"\n",
        "COUNTRIES_DATASET = DATA_FOLDER+\"countries_info.csv\""
      ]
    },
    {
      "cell_type": "markdown",
      "metadata": {
        "id": "h6VAYdSMJIRE"
      },
      "source": [
        "## Task 1: Load the data\n",
        "\n",
        "Load the 2 datasets in Pandas dataframes (called *happiness* and *countries*), and show the first rows.\n",
        "\n",
        "\n",
        "**Hint**: Use the correct reader and verify the data has the expected format."
      ]
    },
    {
      "cell_type": "code",
      "execution_count": 142,
      "metadata": {
        "colab": {
          "base_uri": "https://localhost:8080/"
        },
        "id": "12dkXp-yJIRF",
        "outputId": "94cf7aca-83ec-4baa-d768-67d889e6a52c"
      },
      "outputs": [
        {
          "output_type": "stream",
          "name": "stdout",
          "text": [
            "  country_name     area  population  literacy\n",
            "0  afghanistan   647500    31056997      36.0\n",
            "1      albania    28748     3581655      86.5\n",
            "2      algeria  2381740    32930091      70.0\n",
            "3    argentina  2766890    39921833      97.1\n",
            "4      armenia    29800     2976372      98.6\n"
          ]
        }
      ],
      "source": [
        "happiness = pd.read_csv(HAPPINESS_DATASET, header=0)\n",
        "countries = pd.read_csv(COUNTRIES_DATASET, header=0, decimal=\",\")\n",
        "#print(happiness.head())\n",
        "#print(countries['country'])\n",
        "print(countries.head())"
      ]
    },
    {
      "cell_type": "markdown",
      "metadata": {
        "id": "3DZfz4SqJIRG"
      },
      "source": [
        "## Task 2: Let's merge the data\n",
        "\n",
        "Create a dataframe called *country_features* by merging *happiness* and *countries*. A row of this dataframe must describe all the features that we have about a country.\n",
        "\n",
        "**Hint**: Verify to have all the rows in the final dataframe"
      ]
    },
    {
      "cell_type": "code",
      "execution_count": 143,
      "metadata": {
        "colab": {
          "base_uri": "https://localhost:8080/",
          "height": 357
        },
        "id": "H0mtPDjGJIRH",
        "outputId": "5ff80893-6e00-4441-aff4-3604dc633d4b"
      },
      "outputs": [
        {
          "output_type": "execute_result",
          "data": {
            "text/plain": [
              "       country  happiness_score  social_support  healthy_life_expectancy  \\\n",
              "0  Afghanistan           2.5669        0.470367                52.590000   \n",
              "1      Albania           4.8827        0.671070                68.708138   \n",
              "2      Algeria           5.0051        0.803385                65.905174   \n",
              "3    Argentina           5.9747        0.900568                68.803802   \n",
              "4      Armenia           4.6768        0.757479                66.750656   \n",
              "\n",
              "   freedom_of_choices  generosity  perception_of_corruption  \\\n",
              "0            0.396573   -0.096429                  0.933687   \n",
              "1            0.781994   -0.042309                  0.896304   \n",
              "2            0.466611   -0.121105                  0.735485   \n",
              "3            0.831132   -0.194914                  0.842010   \n",
              "4            0.712018   -0.138780                  0.773545   \n",
              "\n",
              "                         world_region     area  population  literacy  \n",
              "0                          South Asia   647500    31056997      36.0  \n",
              "1          Central and Eastern Europe    28748     3581655      86.5  \n",
              "2        Middle East and North Africa  2381740    32930091      70.0  \n",
              "3         Latin America and Caribbean  2766890    39921833      97.1  \n",
              "4  Commonwealth of Independent States    29800     2976372      98.6  "
            ],
            "text/html": [
              "\n",
              "  <div id=\"df-45de93fe-4007-4a94-87b1-32a9ad06b7a2\">\n",
              "    <div class=\"colab-df-container\">\n",
              "      <div>\n",
              "<style scoped>\n",
              "    .dataframe tbody tr th:only-of-type {\n",
              "        vertical-align: middle;\n",
              "    }\n",
              "\n",
              "    .dataframe tbody tr th {\n",
              "        vertical-align: top;\n",
              "    }\n",
              "\n",
              "    .dataframe thead th {\n",
              "        text-align: right;\n",
              "    }\n",
              "</style>\n",
              "<table border=\"1\" class=\"dataframe\">\n",
              "  <thead>\n",
              "    <tr style=\"text-align: right;\">\n",
              "      <th></th>\n",
              "      <th>country</th>\n",
              "      <th>happiness_score</th>\n",
              "      <th>social_support</th>\n",
              "      <th>healthy_life_expectancy</th>\n",
              "      <th>freedom_of_choices</th>\n",
              "      <th>generosity</th>\n",
              "      <th>perception_of_corruption</th>\n",
              "      <th>world_region</th>\n",
              "      <th>area</th>\n",
              "      <th>population</th>\n",
              "      <th>literacy</th>\n",
              "    </tr>\n",
              "  </thead>\n",
              "  <tbody>\n",
              "    <tr>\n",
              "      <th>0</th>\n",
              "      <td>Afghanistan</td>\n",
              "      <td>2.5669</td>\n",
              "      <td>0.470367</td>\n",
              "      <td>52.590000</td>\n",
              "      <td>0.396573</td>\n",
              "      <td>-0.096429</td>\n",
              "      <td>0.933687</td>\n",
              "      <td>South Asia</td>\n",
              "      <td>647500</td>\n",
              "      <td>31056997</td>\n",
              "      <td>36.0</td>\n",
              "    </tr>\n",
              "    <tr>\n",
              "      <th>1</th>\n",
              "      <td>Albania</td>\n",
              "      <td>4.8827</td>\n",
              "      <td>0.671070</td>\n",
              "      <td>68.708138</td>\n",
              "      <td>0.781994</td>\n",
              "      <td>-0.042309</td>\n",
              "      <td>0.896304</td>\n",
              "      <td>Central and Eastern Europe</td>\n",
              "      <td>28748</td>\n",
              "      <td>3581655</td>\n",
              "      <td>86.5</td>\n",
              "    </tr>\n",
              "    <tr>\n",
              "      <th>2</th>\n",
              "      <td>Algeria</td>\n",
              "      <td>5.0051</td>\n",
              "      <td>0.803385</td>\n",
              "      <td>65.905174</td>\n",
              "      <td>0.466611</td>\n",
              "      <td>-0.121105</td>\n",
              "      <td>0.735485</td>\n",
              "      <td>Middle East and North Africa</td>\n",
              "      <td>2381740</td>\n",
              "      <td>32930091</td>\n",
              "      <td>70.0</td>\n",
              "    </tr>\n",
              "    <tr>\n",
              "      <th>3</th>\n",
              "      <td>Argentina</td>\n",
              "      <td>5.9747</td>\n",
              "      <td>0.900568</td>\n",
              "      <td>68.803802</td>\n",
              "      <td>0.831132</td>\n",
              "      <td>-0.194914</td>\n",
              "      <td>0.842010</td>\n",
              "      <td>Latin America and Caribbean</td>\n",
              "      <td>2766890</td>\n",
              "      <td>39921833</td>\n",
              "      <td>97.1</td>\n",
              "    </tr>\n",
              "    <tr>\n",
              "      <th>4</th>\n",
              "      <td>Armenia</td>\n",
              "      <td>4.6768</td>\n",
              "      <td>0.757479</td>\n",
              "      <td>66.750656</td>\n",
              "      <td>0.712018</td>\n",
              "      <td>-0.138780</td>\n",
              "      <td>0.773545</td>\n",
              "      <td>Commonwealth of Independent States</td>\n",
              "      <td>29800</td>\n",
              "      <td>2976372</td>\n",
              "      <td>98.6</td>\n",
              "    </tr>\n",
              "  </tbody>\n",
              "</table>\n",
              "</div>\n",
              "      <button class=\"colab-df-convert\" onclick=\"convertToInteractive('df-45de93fe-4007-4a94-87b1-32a9ad06b7a2')\"\n",
              "              title=\"Convert this dataframe to an interactive table.\"\n",
              "              style=\"display:none;\">\n",
              "        \n",
              "  <svg xmlns=\"http://www.w3.org/2000/svg\" height=\"24px\"viewBox=\"0 0 24 24\"\n",
              "       width=\"24px\">\n",
              "    <path d=\"M0 0h24v24H0V0z\" fill=\"none\"/>\n",
              "    <path d=\"M18.56 5.44l.94 2.06.94-2.06 2.06-.94-2.06-.94-.94-2.06-.94 2.06-2.06.94zm-11 1L8.5 8.5l.94-2.06 2.06-.94-2.06-.94L8.5 2.5l-.94 2.06-2.06.94zm10 10l.94 2.06.94-2.06 2.06-.94-2.06-.94-.94-2.06-.94 2.06-2.06.94z\"/><path d=\"M17.41 7.96l-1.37-1.37c-.4-.4-.92-.59-1.43-.59-.52 0-1.04.2-1.43.59L10.3 9.45l-7.72 7.72c-.78.78-.78 2.05 0 2.83L4 21.41c.39.39.9.59 1.41.59.51 0 1.02-.2 1.41-.59l7.78-7.78 2.81-2.81c.8-.78.8-2.07 0-2.86zM5.41 20L4 18.59l7.72-7.72 1.47 1.35L5.41 20z\"/>\n",
              "  </svg>\n",
              "      </button>\n",
              "      \n",
              "  <style>\n",
              "    .colab-df-container {\n",
              "      display:flex;\n",
              "      flex-wrap:wrap;\n",
              "      gap: 12px;\n",
              "    }\n",
              "\n",
              "    .colab-df-convert {\n",
              "      background-color: #E8F0FE;\n",
              "      border: none;\n",
              "      border-radius: 50%;\n",
              "      cursor: pointer;\n",
              "      display: none;\n",
              "      fill: #1967D2;\n",
              "      height: 32px;\n",
              "      padding: 0 0 0 0;\n",
              "      width: 32px;\n",
              "    }\n",
              "\n",
              "    .colab-df-convert:hover {\n",
              "      background-color: #E2EBFA;\n",
              "      box-shadow: 0px 1px 2px rgba(60, 64, 67, 0.3), 0px 1px 3px 1px rgba(60, 64, 67, 0.15);\n",
              "      fill: #174EA6;\n",
              "    }\n",
              "\n",
              "    [theme=dark] .colab-df-convert {\n",
              "      background-color: #3B4455;\n",
              "      fill: #D2E3FC;\n",
              "    }\n",
              "\n",
              "    [theme=dark] .colab-df-convert:hover {\n",
              "      background-color: #434B5C;\n",
              "      box-shadow: 0px 1px 3px 1px rgba(0, 0, 0, 0.15);\n",
              "      filter: drop-shadow(0px 1px 2px rgba(0, 0, 0, 0.3));\n",
              "      fill: #FFFFFF;\n",
              "    }\n",
              "  </style>\n",
              "\n",
              "      <script>\n",
              "        const buttonEl =\n",
              "          document.querySelector('#df-45de93fe-4007-4a94-87b1-32a9ad06b7a2 button.colab-df-convert');\n",
              "        buttonEl.style.display =\n",
              "          google.colab.kernel.accessAllowed ? 'block' : 'none';\n",
              "\n",
              "        async function convertToInteractive(key) {\n",
              "          const element = document.querySelector('#df-45de93fe-4007-4a94-87b1-32a9ad06b7a2');\n",
              "          const dataTable =\n",
              "            await google.colab.kernel.invokeFunction('convertToInteractive',\n",
              "                                                     [key], {});\n",
              "          if (!dataTable) return;\n",
              "\n",
              "          const docLinkHtml = 'Like what you see? Visit the ' +\n",
              "            '<a target=\"_blank\" href=https://colab.research.google.com/notebooks/data_table.ipynb>data table notebook</a>'\n",
              "            + ' to learn more about interactive tables.';\n",
              "          element.innerHTML = '';\n",
              "          dataTable['output_type'] = 'display_data';\n",
              "          await google.colab.output.renderOutput(dataTable, element);\n",
              "          const docLink = document.createElement('div');\n",
              "          docLink.innerHTML = docLinkHtml;\n",
              "          element.appendChild(docLink);\n",
              "        }\n",
              "      </script>\n",
              "    </div>\n",
              "  </div>\n",
              "  "
            ]
          },
          "metadata": {},
          "execution_count": 143
        }
      ],
      "source": [
        "country_features = happiness.merge(countries, \n",
        "                                   how='left', \n",
        "                                   left_on=happiness['country'].str.lower(),\n",
        "                                   right_on=countries['country_name'])\n",
        "\n",
        "country_features = country_features.drop(columns={'key_0','country_name'})\n",
        "country_features.head()"
      ]
    },
    {
      "cell_type": "markdown",
      "metadata": {
        "id": "v80TNMo8JIRI"
      },
      "source": [
        "## Task 3: Where do people are happier?\n",
        "\n",
        "Print the top 10 countries based on their happiness score (high is better)."
      ]
    },
    {
      "cell_type": "code",
      "execution_count": 144,
      "metadata": {
        "colab": {
          "base_uri": "https://localhost:8080/",
          "height": 363
        },
        "id": "Qwnca8xYJIRJ",
        "outputId": "5d9ce9ce-f781-49de-a8aa-a5d6374b565b"
      },
      "outputs": [
        {
          "output_type": "execute_result",
          "data": {
            "text/plain": [
              "         country  happiness_score\n",
              "38       Finland           7.8087\n",
              "31       Denmark           7.6456\n",
              "115  Switzerland           7.5599\n",
              "50       Iceland           7.5045\n",
              "92        Norway           7.4880\n",
              "87   Netherlands           7.4489\n",
              "114       Sweden           7.3535\n",
              "88   New Zealand           7.2996\n",
              "6        Austria           7.2942\n",
              "72    Luxembourg           7.2375"
            ],
            "text/html": [
              "\n",
              "  <div id=\"df-ea68a71a-b691-41d3-8666-998e557e0a15\">\n",
              "    <div class=\"colab-df-container\">\n",
              "      <div>\n",
              "<style scoped>\n",
              "    .dataframe tbody tr th:only-of-type {\n",
              "        vertical-align: middle;\n",
              "    }\n",
              "\n",
              "    .dataframe tbody tr th {\n",
              "        vertical-align: top;\n",
              "    }\n",
              "\n",
              "    .dataframe thead th {\n",
              "        text-align: right;\n",
              "    }\n",
              "</style>\n",
              "<table border=\"1\" class=\"dataframe\">\n",
              "  <thead>\n",
              "    <tr style=\"text-align: right;\">\n",
              "      <th></th>\n",
              "      <th>country</th>\n",
              "      <th>happiness_score</th>\n",
              "    </tr>\n",
              "  </thead>\n",
              "  <tbody>\n",
              "    <tr>\n",
              "      <th>38</th>\n",
              "      <td>Finland</td>\n",
              "      <td>7.8087</td>\n",
              "    </tr>\n",
              "    <tr>\n",
              "      <th>31</th>\n",
              "      <td>Denmark</td>\n",
              "      <td>7.6456</td>\n",
              "    </tr>\n",
              "    <tr>\n",
              "      <th>115</th>\n",
              "      <td>Switzerland</td>\n",
              "      <td>7.5599</td>\n",
              "    </tr>\n",
              "    <tr>\n",
              "      <th>50</th>\n",
              "      <td>Iceland</td>\n",
              "      <td>7.5045</td>\n",
              "    </tr>\n",
              "    <tr>\n",
              "      <th>92</th>\n",
              "      <td>Norway</td>\n",
              "      <td>7.4880</td>\n",
              "    </tr>\n",
              "    <tr>\n",
              "      <th>87</th>\n",
              "      <td>Netherlands</td>\n",
              "      <td>7.4489</td>\n",
              "    </tr>\n",
              "    <tr>\n",
              "      <th>114</th>\n",
              "      <td>Sweden</td>\n",
              "      <td>7.3535</td>\n",
              "    </tr>\n",
              "    <tr>\n",
              "      <th>88</th>\n",
              "      <td>New Zealand</td>\n",
              "      <td>7.2996</td>\n",
              "    </tr>\n",
              "    <tr>\n",
              "      <th>6</th>\n",
              "      <td>Austria</td>\n",
              "      <td>7.2942</td>\n",
              "    </tr>\n",
              "    <tr>\n",
              "      <th>72</th>\n",
              "      <td>Luxembourg</td>\n",
              "      <td>7.2375</td>\n",
              "    </tr>\n",
              "  </tbody>\n",
              "</table>\n",
              "</div>\n",
              "      <button class=\"colab-df-convert\" onclick=\"convertToInteractive('df-ea68a71a-b691-41d3-8666-998e557e0a15')\"\n",
              "              title=\"Convert this dataframe to an interactive table.\"\n",
              "              style=\"display:none;\">\n",
              "        \n",
              "  <svg xmlns=\"http://www.w3.org/2000/svg\" height=\"24px\"viewBox=\"0 0 24 24\"\n",
              "       width=\"24px\">\n",
              "    <path d=\"M0 0h24v24H0V0z\" fill=\"none\"/>\n",
              "    <path d=\"M18.56 5.44l.94 2.06.94-2.06 2.06-.94-2.06-.94-.94-2.06-.94 2.06-2.06.94zm-11 1L8.5 8.5l.94-2.06 2.06-.94-2.06-.94L8.5 2.5l-.94 2.06-2.06.94zm10 10l.94 2.06.94-2.06 2.06-.94-2.06-.94-.94-2.06-.94 2.06-2.06.94z\"/><path d=\"M17.41 7.96l-1.37-1.37c-.4-.4-.92-.59-1.43-.59-.52 0-1.04.2-1.43.59L10.3 9.45l-7.72 7.72c-.78.78-.78 2.05 0 2.83L4 21.41c.39.39.9.59 1.41.59.51 0 1.02-.2 1.41-.59l7.78-7.78 2.81-2.81c.8-.78.8-2.07 0-2.86zM5.41 20L4 18.59l7.72-7.72 1.47 1.35L5.41 20z\"/>\n",
              "  </svg>\n",
              "      </button>\n",
              "      \n",
              "  <style>\n",
              "    .colab-df-container {\n",
              "      display:flex;\n",
              "      flex-wrap:wrap;\n",
              "      gap: 12px;\n",
              "    }\n",
              "\n",
              "    .colab-df-convert {\n",
              "      background-color: #E8F0FE;\n",
              "      border: none;\n",
              "      border-radius: 50%;\n",
              "      cursor: pointer;\n",
              "      display: none;\n",
              "      fill: #1967D2;\n",
              "      height: 32px;\n",
              "      padding: 0 0 0 0;\n",
              "      width: 32px;\n",
              "    }\n",
              "\n",
              "    .colab-df-convert:hover {\n",
              "      background-color: #E2EBFA;\n",
              "      box-shadow: 0px 1px 2px rgba(60, 64, 67, 0.3), 0px 1px 3px 1px rgba(60, 64, 67, 0.15);\n",
              "      fill: #174EA6;\n",
              "    }\n",
              "\n",
              "    [theme=dark] .colab-df-convert {\n",
              "      background-color: #3B4455;\n",
              "      fill: #D2E3FC;\n",
              "    }\n",
              "\n",
              "    [theme=dark] .colab-df-convert:hover {\n",
              "      background-color: #434B5C;\n",
              "      box-shadow: 0px 1px 3px 1px rgba(0, 0, 0, 0.15);\n",
              "      filter: drop-shadow(0px 1px 2px rgba(0, 0, 0, 0.3));\n",
              "      fill: #FFFFFF;\n",
              "    }\n",
              "  </style>\n",
              "\n",
              "      <script>\n",
              "        const buttonEl =\n",
              "          document.querySelector('#df-ea68a71a-b691-41d3-8666-998e557e0a15 button.colab-df-convert');\n",
              "        buttonEl.style.display =\n",
              "          google.colab.kernel.accessAllowed ? 'block' : 'none';\n",
              "\n",
              "        async function convertToInteractive(key) {\n",
              "          const element = document.querySelector('#df-ea68a71a-b691-41d3-8666-998e557e0a15');\n",
              "          const dataTable =\n",
              "            await google.colab.kernel.invokeFunction('convertToInteractive',\n",
              "                                                     [key], {});\n",
              "          if (!dataTable) return;\n",
              "\n",
              "          const docLinkHtml = 'Like what you see? Visit the ' +\n",
              "            '<a target=\"_blank\" href=https://colab.research.google.com/notebooks/data_table.ipynb>data table notebook</a>'\n",
              "            + ' to learn more about interactive tables.';\n",
              "          element.innerHTML = '';\n",
              "          dataTable['output_type'] = 'display_data';\n",
              "          await google.colab.output.renderOutput(dataTable, element);\n",
              "          const docLink = document.createElement('div');\n",
              "          docLink.innerHTML = docLinkHtml;\n",
              "          element.appendChild(docLink);\n",
              "        }\n",
              "      </script>\n",
              "    </div>\n",
              "  </div>\n",
              "  "
            ]
          },
          "metadata": {},
          "execution_count": 144
        }
      ],
      "source": [
        "country_features.sort_values(['happiness_score'], ascending=False).head(10)[['country', 'happiness_score']]"
      ]
    },
    {
      "cell_type": "markdown",
      "metadata": {
        "id": "oLOQ4EyMJIRJ"
      },
      "source": [
        "We are interested to know in what world region the people are happier. \n",
        "\n",
        "Create and print a dataframe with the (1) average happiness score and (2) the number of contries for each world region.\n",
        "Sort the result to show the happiness ranking."
      ]
    },
    {
      "cell_type": "code",
      "execution_count": 145,
      "metadata": {
        "id": "xjvhpW4vJIRK"
      },
      "outputs": [],
      "source": [
        "happy_country = country_features.groupby(['world_region']).describe()['happiness_score'][['mean', 'count']]\n",
        "happy_country = happy_country.sort_values(by =['mean'], ascending=False)"
      ]
    },
    {
      "cell_type": "markdown",
      "metadata": {
        "id": "ekr3_Kb0JIRK"
      },
      "source": [
        "The first region has only a few countries! What are them and what is their score?"
      ]
    },
    {
      "cell_type": "code",
      "execution_count": 146,
      "metadata": {
        "colab": {
          "base_uri": "https://localhost:8080/",
          "height": 175
        },
        "id": "GkP4gcthJIRK",
        "outputId": "646a32b0-0b52-448d-f195-bb15f643b1b7"
      },
      "outputs": [
        {
          "output_type": "execute_result",
          "data": {
            "text/plain": [
              "           country  happiness_score\n",
              "5        Australia           7.2228\n",
              "21          Canada           7.2321\n",
              "88     New Zealand           7.2996\n",
              "127  United States           6.9396"
            ],
            "text/html": [
              "\n",
              "  <div id=\"df-2ae2c0b0-f67f-4aca-aaf1-371784a3ea2c\">\n",
              "    <div class=\"colab-df-container\">\n",
              "      <div>\n",
              "<style scoped>\n",
              "    .dataframe tbody tr th:only-of-type {\n",
              "        vertical-align: middle;\n",
              "    }\n",
              "\n",
              "    .dataframe tbody tr th {\n",
              "        vertical-align: top;\n",
              "    }\n",
              "\n",
              "    .dataframe thead th {\n",
              "        text-align: right;\n",
              "    }\n",
              "</style>\n",
              "<table border=\"1\" class=\"dataframe\">\n",
              "  <thead>\n",
              "    <tr style=\"text-align: right;\">\n",
              "      <th></th>\n",
              "      <th>country</th>\n",
              "      <th>happiness_score</th>\n",
              "    </tr>\n",
              "  </thead>\n",
              "  <tbody>\n",
              "    <tr>\n",
              "      <th>5</th>\n",
              "      <td>Australia</td>\n",
              "      <td>7.2228</td>\n",
              "    </tr>\n",
              "    <tr>\n",
              "      <th>21</th>\n",
              "      <td>Canada</td>\n",
              "      <td>7.2321</td>\n",
              "    </tr>\n",
              "    <tr>\n",
              "      <th>88</th>\n",
              "      <td>New Zealand</td>\n",
              "      <td>7.2996</td>\n",
              "    </tr>\n",
              "    <tr>\n",
              "      <th>127</th>\n",
              "      <td>United States</td>\n",
              "      <td>6.9396</td>\n",
              "    </tr>\n",
              "  </tbody>\n",
              "</table>\n",
              "</div>\n",
              "      <button class=\"colab-df-convert\" onclick=\"convertToInteractive('df-2ae2c0b0-f67f-4aca-aaf1-371784a3ea2c')\"\n",
              "              title=\"Convert this dataframe to an interactive table.\"\n",
              "              style=\"display:none;\">\n",
              "        \n",
              "  <svg xmlns=\"http://www.w3.org/2000/svg\" height=\"24px\"viewBox=\"0 0 24 24\"\n",
              "       width=\"24px\">\n",
              "    <path d=\"M0 0h24v24H0V0z\" fill=\"none\"/>\n",
              "    <path d=\"M18.56 5.44l.94 2.06.94-2.06 2.06-.94-2.06-.94-.94-2.06-.94 2.06-2.06.94zm-11 1L8.5 8.5l.94-2.06 2.06-.94-2.06-.94L8.5 2.5l-.94 2.06-2.06.94zm10 10l.94 2.06.94-2.06 2.06-.94-2.06-.94-.94-2.06-.94 2.06-2.06.94z\"/><path d=\"M17.41 7.96l-1.37-1.37c-.4-.4-.92-.59-1.43-.59-.52 0-1.04.2-1.43.59L10.3 9.45l-7.72 7.72c-.78.78-.78 2.05 0 2.83L4 21.41c.39.39.9.59 1.41.59.51 0 1.02-.2 1.41-.59l7.78-7.78 2.81-2.81c.8-.78.8-2.07 0-2.86zM5.41 20L4 18.59l7.72-7.72 1.47 1.35L5.41 20z\"/>\n",
              "  </svg>\n",
              "      </button>\n",
              "      \n",
              "  <style>\n",
              "    .colab-df-container {\n",
              "      display:flex;\n",
              "      flex-wrap:wrap;\n",
              "      gap: 12px;\n",
              "    }\n",
              "\n",
              "    .colab-df-convert {\n",
              "      background-color: #E8F0FE;\n",
              "      border: none;\n",
              "      border-radius: 50%;\n",
              "      cursor: pointer;\n",
              "      display: none;\n",
              "      fill: #1967D2;\n",
              "      height: 32px;\n",
              "      padding: 0 0 0 0;\n",
              "      width: 32px;\n",
              "    }\n",
              "\n",
              "    .colab-df-convert:hover {\n",
              "      background-color: #E2EBFA;\n",
              "      box-shadow: 0px 1px 2px rgba(60, 64, 67, 0.3), 0px 1px 3px 1px rgba(60, 64, 67, 0.15);\n",
              "      fill: #174EA6;\n",
              "    }\n",
              "\n",
              "    [theme=dark] .colab-df-convert {\n",
              "      background-color: #3B4455;\n",
              "      fill: #D2E3FC;\n",
              "    }\n",
              "\n",
              "    [theme=dark] .colab-df-convert:hover {\n",
              "      background-color: #434B5C;\n",
              "      box-shadow: 0px 1px 3px 1px rgba(0, 0, 0, 0.15);\n",
              "      filter: drop-shadow(0px 1px 2px rgba(0, 0, 0, 0.3));\n",
              "      fill: #FFFFFF;\n",
              "    }\n",
              "  </style>\n",
              "\n",
              "      <script>\n",
              "        const buttonEl =\n",
              "          document.querySelector('#df-2ae2c0b0-f67f-4aca-aaf1-371784a3ea2c button.colab-df-convert');\n",
              "        buttonEl.style.display =\n",
              "          google.colab.kernel.accessAllowed ? 'block' : 'none';\n",
              "\n",
              "        async function convertToInteractive(key) {\n",
              "          const element = document.querySelector('#df-2ae2c0b0-f67f-4aca-aaf1-371784a3ea2c');\n",
              "          const dataTable =\n",
              "            await google.colab.kernel.invokeFunction('convertToInteractive',\n",
              "                                                     [key], {});\n",
              "          if (!dataTable) return;\n",
              "\n",
              "          const docLinkHtml = 'Like what you see? Visit the ' +\n",
              "            '<a target=\"_blank\" href=https://colab.research.google.com/notebooks/data_table.ipynb>data table notebook</a>'\n",
              "            + ' to learn more about interactive tables.';\n",
              "          element.innerHTML = '';\n",
              "          dataTable['output_type'] = 'display_data';\n",
              "          await google.colab.output.renderOutput(dataTable, element);\n",
              "          const docLink = document.createElement('div');\n",
              "          docLink.innerHTML = docLinkHtml;\n",
              "          element.appendChild(docLink);\n",
              "        }\n",
              "      </script>\n",
              "    </div>\n",
              "  </div>\n",
              "  "
            ]
          },
          "metadata": {},
          "execution_count": 146
        }
      ],
      "source": [
        "country_features[country_features['world_region'] == happy_country.index[0]][['country','happiness_score']]"
      ]
    },
    {
      "cell_type": "markdown",
      "metadata": {
        "id": "z5RAl-e5JIRK"
      },
      "source": [
        "## Task 4: How literate is the world?\n",
        "\n",
        "Print the name of countries with a level of literacy of 100%. \n",
        "\n",
        "For each country, print the name and the world region with the format: *{region name} - {country name} ({happiness score})*"
      ]
    },
    {
      "cell_type": "code",
      "execution_count": 150,
      "metadata": {
        "colab": {
          "base_uri": "https://localhost:8080/",
          "height": 357
        },
        "id": "P6sjEmbXJIRL",
        "outputId": "f46d0f85-ef0b-4d71-9d67-37b61ce3489d"
      },
      "outputs": [
        {
          "output_type": "execute_result",
          "data": {
            "text/plain": [
              "       country  happiness_score  social_support  healthy_life_expectancy  \\\n",
              "5    Australia           7.2228        0.944855                73.604538   \n",
              "31     Denmark           7.6456        0.955991                72.402504   \n",
              "38     Finland           7.8087        0.954330                71.900825   \n",
              "72  Luxembourg           7.2375        0.906912                72.599998   \n",
              "92      Norway           7.4880        0.952487                73.200783   \n",
              "\n",
              "    freedom_of_choices  generosity  perception_of_corruption  \\\n",
              "5             0.915432    0.190460                  0.415169   \n",
              "31            0.951444    0.066202                  0.168489   \n",
              "38            0.949172   -0.059482                  0.195445   \n",
              "72            0.905636   -0.004621                  0.367084   \n",
              "92            0.955750    0.134533                  0.263218   \n",
              "\n",
              "             world_region     area  population  literacy  \n",
              "5   North America and ANZ  7686850    20264082     100.0  \n",
              "31         Western Europe    43094     5450661     100.0  \n",
              "38         Western Europe   338145     5231372     100.0  \n",
              "72         Western Europe     2586      474413     100.0  \n",
              "92         Western Europe   323802     4610820     100.0  "
            ],
            "text/html": [
              "\n",
              "  <div id=\"df-61bf76f8-6141-4bef-bd10-01282dc4e69f\">\n",
              "    <div class=\"colab-df-container\">\n",
              "      <div>\n",
              "<style scoped>\n",
              "    .dataframe tbody tr th:only-of-type {\n",
              "        vertical-align: middle;\n",
              "    }\n",
              "\n",
              "    .dataframe tbody tr th {\n",
              "        vertical-align: top;\n",
              "    }\n",
              "\n",
              "    .dataframe thead th {\n",
              "        text-align: right;\n",
              "    }\n",
              "</style>\n",
              "<table border=\"1\" class=\"dataframe\">\n",
              "  <thead>\n",
              "    <tr style=\"text-align: right;\">\n",
              "      <th></th>\n",
              "      <th>country</th>\n",
              "      <th>happiness_score</th>\n",
              "      <th>social_support</th>\n",
              "      <th>healthy_life_expectancy</th>\n",
              "      <th>freedom_of_choices</th>\n",
              "      <th>generosity</th>\n",
              "      <th>perception_of_corruption</th>\n",
              "      <th>world_region</th>\n",
              "      <th>area</th>\n",
              "      <th>population</th>\n",
              "      <th>literacy</th>\n",
              "    </tr>\n",
              "  </thead>\n",
              "  <tbody>\n",
              "    <tr>\n",
              "      <th>5</th>\n",
              "      <td>Australia</td>\n",
              "      <td>7.2228</td>\n",
              "      <td>0.944855</td>\n",
              "      <td>73.604538</td>\n",
              "      <td>0.915432</td>\n",
              "      <td>0.190460</td>\n",
              "      <td>0.415169</td>\n",
              "      <td>North America and ANZ</td>\n",
              "      <td>7686850</td>\n",
              "      <td>20264082</td>\n",
              "      <td>100.0</td>\n",
              "    </tr>\n",
              "    <tr>\n",
              "      <th>31</th>\n",
              "      <td>Denmark</td>\n",
              "      <td>7.6456</td>\n",
              "      <td>0.955991</td>\n",
              "      <td>72.402504</td>\n",
              "      <td>0.951444</td>\n",
              "      <td>0.066202</td>\n",
              "      <td>0.168489</td>\n",
              "      <td>Western Europe</td>\n",
              "      <td>43094</td>\n",
              "      <td>5450661</td>\n",
              "      <td>100.0</td>\n",
              "    </tr>\n",
              "    <tr>\n",
              "      <th>38</th>\n",
              "      <td>Finland</td>\n",
              "      <td>7.8087</td>\n",
              "      <td>0.954330</td>\n",
              "      <td>71.900825</td>\n",
              "      <td>0.949172</td>\n",
              "      <td>-0.059482</td>\n",
              "      <td>0.195445</td>\n",
              "      <td>Western Europe</td>\n",
              "      <td>338145</td>\n",
              "      <td>5231372</td>\n",
              "      <td>100.0</td>\n",
              "    </tr>\n",
              "    <tr>\n",
              "      <th>72</th>\n",
              "      <td>Luxembourg</td>\n",
              "      <td>7.2375</td>\n",
              "      <td>0.906912</td>\n",
              "      <td>72.599998</td>\n",
              "      <td>0.905636</td>\n",
              "      <td>-0.004621</td>\n",
              "      <td>0.367084</td>\n",
              "      <td>Western Europe</td>\n",
              "      <td>2586</td>\n",
              "      <td>474413</td>\n",
              "      <td>100.0</td>\n",
              "    </tr>\n",
              "    <tr>\n",
              "      <th>92</th>\n",
              "      <td>Norway</td>\n",
              "      <td>7.4880</td>\n",
              "      <td>0.952487</td>\n",
              "      <td>73.200783</td>\n",
              "      <td>0.955750</td>\n",
              "      <td>0.134533</td>\n",
              "      <td>0.263218</td>\n",
              "      <td>Western Europe</td>\n",
              "      <td>323802</td>\n",
              "      <td>4610820</td>\n",
              "      <td>100.0</td>\n",
              "    </tr>\n",
              "  </tbody>\n",
              "</table>\n",
              "</div>\n",
              "      <button class=\"colab-df-convert\" onclick=\"convertToInteractive('df-61bf76f8-6141-4bef-bd10-01282dc4e69f')\"\n",
              "              title=\"Convert this dataframe to an interactive table.\"\n",
              "              style=\"display:none;\">\n",
              "        \n",
              "  <svg xmlns=\"http://www.w3.org/2000/svg\" height=\"24px\"viewBox=\"0 0 24 24\"\n",
              "       width=\"24px\">\n",
              "    <path d=\"M0 0h24v24H0V0z\" fill=\"none\"/>\n",
              "    <path d=\"M18.56 5.44l.94 2.06.94-2.06 2.06-.94-2.06-.94-.94-2.06-.94 2.06-2.06.94zm-11 1L8.5 8.5l.94-2.06 2.06-.94-2.06-.94L8.5 2.5l-.94 2.06-2.06.94zm10 10l.94 2.06.94-2.06 2.06-.94-2.06-.94-.94-2.06-.94 2.06-2.06.94z\"/><path d=\"M17.41 7.96l-1.37-1.37c-.4-.4-.92-.59-1.43-.59-.52 0-1.04.2-1.43.59L10.3 9.45l-7.72 7.72c-.78.78-.78 2.05 0 2.83L4 21.41c.39.39.9.59 1.41.59.51 0 1.02-.2 1.41-.59l7.78-7.78 2.81-2.81c.8-.78.8-2.07 0-2.86zM5.41 20L4 18.59l7.72-7.72 1.47 1.35L5.41 20z\"/>\n",
              "  </svg>\n",
              "      </button>\n",
              "      \n",
              "  <style>\n",
              "    .colab-df-container {\n",
              "      display:flex;\n",
              "      flex-wrap:wrap;\n",
              "      gap: 12px;\n",
              "    }\n",
              "\n",
              "    .colab-df-convert {\n",
              "      background-color: #E8F0FE;\n",
              "      border: none;\n",
              "      border-radius: 50%;\n",
              "      cursor: pointer;\n",
              "      display: none;\n",
              "      fill: #1967D2;\n",
              "      height: 32px;\n",
              "      padding: 0 0 0 0;\n",
              "      width: 32px;\n",
              "    }\n",
              "\n",
              "    .colab-df-convert:hover {\n",
              "      background-color: #E2EBFA;\n",
              "      box-shadow: 0px 1px 2px rgba(60, 64, 67, 0.3), 0px 1px 3px 1px rgba(60, 64, 67, 0.15);\n",
              "      fill: #174EA6;\n",
              "    }\n",
              "\n",
              "    [theme=dark] .colab-df-convert {\n",
              "      background-color: #3B4455;\n",
              "      fill: #D2E3FC;\n",
              "    }\n",
              "\n",
              "    [theme=dark] .colab-df-convert:hover {\n",
              "      background-color: #434B5C;\n",
              "      box-shadow: 0px 1px 3px 1px rgba(0, 0, 0, 0.15);\n",
              "      filter: drop-shadow(0px 1px 2px rgba(0, 0, 0, 0.3));\n",
              "      fill: #FFFFFF;\n",
              "    }\n",
              "  </style>\n",
              "\n",
              "      <script>\n",
              "        const buttonEl =\n",
              "          document.querySelector('#df-61bf76f8-6141-4bef-bd10-01282dc4e69f button.colab-df-convert');\n",
              "        buttonEl.style.display =\n",
              "          google.colab.kernel.accessAllowed ? 'block' : 'none';\n",
              "\n",
              "        async function convertToInteractive(key) {\n",
              "          const element = document.querySelector('#df-61bf76f8-6141-4bef-bd10-01282dc4e69f');\n",
              "          const dataTable =\n",
              "            await google.colab.kernel.invokeFunction('convertToInteractive',\n",
              "                                                     [key], {});\n",
              "          if (!dataTable) return;\n",
              "\n",
              "          const docLinkHtml = 'Like what you see? Visit the ' +\n",
              "            '<a target=\"_blank\" href=https://colab.research.google.com/notebooks/data_table.ipynb>data table notebook</a>'\n",
              "            + ' to learn more about interactive tables.';\n",
              "          element.innerHTML = '';\n",
              "          dataTable['output_type'] = 'display_data';\n",
              "          await google.colab.output.renderOutput(dataTable, element);\n",
              "          const docLink = document.createElement('div');\n",
              "          docLink.innerHTML = docLinkHtml;\n",
              "          element.appendChild(docLink);\n",
              "        }\n",
              "      </script>\n",
              "    </div>\n",
              "  </div>\n",
              "  "
            ]
          },
          "metadata": {},
          "execution_count": 150
        }
      ],
      "source": [
        "country_features[country_features['literacy'].apply(lambda x: x >=100)]\n"
      ]
    },
    {
      "cell_type": "markdown",
      "metadata": {
        "id": "nJ1wqHAYJIRL"
      },
      "source": [
        "What is the global average?"
      ]
    },
    {
      "cell_type": "code",
      "execution_count": 151,
      "metadata": {
        "colab": {
          "base_uri": "https://localhost:8080/"
        },
        "id": "-rO-6qxJJIRL",
        "outputId": "55226d44-9b6a-4565-921a-7cc5126e8b8a"
      },
      "outputs": [
        {
          "output_type": "execute_result",
          "data": {
            "text/plain": [
              "81.85112781954888"
            ]
          },
          "metadata": {},
          "execution_count": 151
        }
      ],
      "source": [
        "country_features['literacy'].mean()"
      ]
    },
    {
      "cell_type": "markdown",
      "metadata": {
        "id": "Ln9jHhJZJIRM"
      },
      "source": [
        "Calculate the proportion of countries with a literacy level below 50%. Print the value in percentage, formatted with 2 decimals."
      ]
    },
    {
      "cell_type": "code",
      "execution_count": 160,
      "metadata": {
        "colab": {
          "base_uri": "https://localhost:8080/",
          "height": 133
        },
        "id": "sHkprT8yJIRM",
        "outputId": "16490fa4-7e0c-4ba2-c63c-12fe30cdab67"
      },
      "outputs": [
        {
          "output_type": "error",
          "ename": "SyntaxError",
          "evalue": "ignored",
          "traceback": [
            "\u001b[0;36m  File \u001b[0;32m\"<ipython-input-160-94bb33ed2059>\"\u001b[0;36m, line \u001b[0;32m3\u001b[0m\n\u001b[0;31m    print(\"%0.2\" under/total*100)\u001b[0m\n\u001b[0m                     ^\u001b[0m\n\u001b[0;31mSyntaxError\u001b[0m\u001b[0;31m:\u001b[0m invalid syntax\n"
          ]
        }
      ],
      "source": [
        "under = country_features[country_features['literacy'].apply(lambda x: x <50)][['country']].count()\n",
        "total = country_features[['country']].count()"
      ]
    },
    {
      "cell_type": "markdown",
      "metadata": {
        "id": "mebrDgW-JIRM"
      },
      "source": [
        "Print the raw number and the percentage of world population that is illiterate."
      ]
    },
    {
      "cell_type": "code",
      "execution_count": null,
      "metadata": {
        "id": "pqQTs7ZmJIRM"
      },
      "outputs": [],
      "source": []
    },
    {
      "cell_type": "markdown",
      "metadata": {
        "id": "fLMvtb4uJIRM"
      },
      "source": [
        "## Task 5: Population density\n",
        "\n",
        "Add to the dataframe a new field called *population_density* computed by dividing *population* by *area*."
      ]
    },
    {
      "cell_type": "code",
      "execution_count": null,
      "metadata": {
        "id": "OBd8JCUeJIRN"
      },
      "outputs": [],
      "source": []
    },
    {
      "cell_type": "markdown",
      "metadata": {
        "id": "caD_WomjJIRN"
      },
      "source": [
        "What is the happiness score of the 3 countries with lowest population density?"
      ]
    },
    {
      "cell_type": "code",
      "execution_count": null,
      "metadata": {
        "id": "ZHwkm4dbJIRN"
      },
      "outputs": [],
      "source": [
        "# Write your code here"
      ]
    },
    {
      "cell_type": "markdown",
      "metadata": {
        "id": "OEaEPJOYJIRN"
      },
      "source": [
        "## Task 6: Healty and happy?\n",
        "\n",
        "Plot in scatter plot the happiness score (x) and healty life expectancy (y)."
      ]
    },
    {
      "cell_type": "code",
      "execution_count": null,
      "metadata": {
        "id": "gxSG4FdhJIRO"
      },
      "outputs": [],
      "source": [
        "# Write your code here"
      ]
    },
    {
      "cell_type": "markdown",
      "metadata": {
        "id": "HNcqK0F2JIRO"
      },
      "source": [
        "Feel free to continue the exploration of the dataset! We'll release the solutions next week.\n",
        "\n",
        "----\n",
        "Enjoy EPFL and be happy, next year Switzerland must be #1."
      ]
    }
  ],
  "metadata": {
    "kernelspec": {
      "display_name": "Python 3",
      "language": "python",
      "name": "python3"
    },
    "language_info": {
      "codemirror_mode": {
        "name": "ipython",
        "version": 3
      },
      "file_extension": ".py",
      "mimetype": "text/x-python",
      "name": "python",
      "nbconvert_exporter": "python",
      "pygments_lexer": "ipython3",
      "version": "3.7.7"
    },
    "colab": {
      "provenance": [],
      "include_colab_link": true
    }
  },
  "nbformat": 4,
  "nbformat_minor": 0
}