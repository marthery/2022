{
  "nbformat": 4,
  "nbformat_minor": 0,
  "metadata": {
    "colab": {
      "provenance": [],
      "authorship_tag": "ABX9TyMDnq7hPGRx1yJaknzkU4gB",
      "include_colab_link": true
    },
    "kernelspec": {
      "name": "python3",
      "display_name": "Python 3"
    },
    "language_info": {
      "name": "python"
    }
  },
  "cells": [
    {
      "cell_type": "markdown",
      "metadata": {
        "id": "view-in-github",
        "colab_type": "text"
      },
      "source": [
        "<a href=\"https://colab.research.google.com/github/marthery/2022/blob/lab1/Homework0.ipynb\" target=\"_parent\"><img src=\"https://colab.research.google.com/assets/colab-badge.svg\" alt=\"Open In Colab\"/></a>"
      ]
    },
    {
      "cell_type": "markdown",
      "source": [
        "Nearly two-thirds of gun deaths are suicides.\n",
        "More than 85 percent of suicide victims are male.\n",
        "Around a third of all gun deaths are homicides.\n",
        "Around two-thirds of homicide victims who are males in the age-group of 15--34 are black.\n",
        "Women constitue only 15 percent of the total homicide victims.\n",
        "It's not necessary to generate visualizations for the results -- numbers should be more than enough to convince yourself that you were able to reproduce the results of that article."
      ],
      "metadata": {
        "id": "yJniOzafzAqM"
      }
    },
    {
      "cell_type": "markdown",
      "source": [
        "# Import"
      ],
      "metadata": {
        "id": "44Ve6Z0-RROp"
      }
    },
    {
      "cell_type": "code",
      "source": [
        "import numpy as np\n",
        "import pandas as pd\n",
        "import matplotlib.pyplot as plt\n",
        "%matplotlib inline"
      ],
      "metadata": {
        "id": "xAWxgdNbzjCI"
      },
      "execution_count": 2,
      "outputs": []
    },
    {
      "cell_type": "code",
      "source": [
        "df = pd.read_csv('https://raw.githubusercontent.com/fivethirtyeight/guns-data/master/interactive_data.csv')"
      ],
      "metadata": {
        "id": "z9Pp5xNGzj_G"
      },
      "execution_count": 182,
      "outputs": []
    },
    {
      "cell_type": "code",
      "source": [
        "print(df.apply(lambda col: col.unique()))"
      ],
      "metadata": {
        "colab": {
          "base_uri": "https://localhost:8080/"
        },
        "id": "mL6tt8UN1lCl",
        "outputId": "03962f14-ea72-496a-87d3-0d4c3e309e10"
      },
      "execution_count": 183,
      "outputs": [
        {
          "output_type": "stream",
          "name": "stdout",
          "text": [
            "Unnamed: 0    [1, 2, 3, 4, 5, 6, 7, 8, 9, 10, 11, 12, 13, 14...\n",
            "Intent        [None selected, Suicide, Homicide, Accident, U...\n",
            "Gender                            [None selected, Female, Male]\n",
            "Age           [None selected, Under 15, 15 - 34, 35 - 64, 65...\n",
            "Race          [None selected, White, Black, Hispanic, Asian/...\n",
            "Deaths        [33599, 22079, 7765, 3007, 442, 306, 427, 242,...\n",
            "Population    [316299978, 197369634, 38896382, 54049078, 163...\n",
            "Rate          [10.6, 11.2, 20.0, 5.6, 2.7, 3.2, 0.7, 0.8, 1....\n",
            "dtype: object\n"
          ]
        }
      ]
    },
    {
      "cell_type": "code",
      "source": [
        "print(df['Intent'].unique())\n",
        "print(df['Age'].unique())\n",
        "print(df['Race'].unique())"
      ],
      "metadata": {
        "colab": {
          "base_uri": "https://localhost:8080/"
        },
        "id": "al3cM2nt2cms",
        "outputId": "0ea4ed69-f701-4223-933a-06655ccad6d6"
      },
      "execution_count": 184,
      "outputs": [
        {
          "output_type": "stream",
          "name": "stdout",
          "text": [
            "['None selected' 'Suicide' 'Homicide' 'Accident' 'Unknown']\n",
            "['None selected' 'Under 15' '15 - 34' '35 - 64' '65+' '5']\n",
            "['None selected' 'White' 'Black' 'Hispanic' 'Asian/Pacific Islander'\n",
            " 'Other']\n"
          ]
        }
      ]
    },
    {
      "cell_type": "code",
      "source": [
        "data = df.to_numpy()\n",
        "data = data[:,1:]"
      ],
      "metadata": {
        "id": "SZd3xNc087if"
      },
      "execution_count": 194,
      "outputs": []
    },
    {
      "cell_type": "markdown",
      "source": [
        "#Analysis"
      ],
      "metadata": {
        "id": "GcOsWU3HRWBL"
      }
    },
    {
      "cell_type": "code",
      "source": [
        "#Example of one line of data\n",
        "data[56]"
      ],
      "metadata": {
        "colab": {
          "base_uri": "https://localhost:8080/"
        },
        "id": "VHBB6zjuR_ck",
        "outputId": "cd2e7978-17ab-45cd-9429-d6f2ce8f1391"
      },
      "execution_count": 167,
      "outputs": [
        {
          "output_type": "execute_result",
          "data": {
            "text/plain": [
              "array(['None selected', 'Female', '35 - 64', 'Black', 270, 7932606, 3.4],\n",
              "      dtype=object)"
            ]
          },
          "metadata": {},
          "execution_count": 167
        }
      ]
    },
    {
      "cell_type": "code",
      "source": [
        "#2/3 of gun death are suicidal\n",
        "def suicide():\n",
        "  result = 0\n",
        "  for i in range(data.shape[0]):\n",
        "    if data[i, 0] == 'Suicide' : \n",
        "        result += data[i,4]\n",
        "  return result/np.sum(data[:,4]) "
      ],
      "metadata": {
        "id": "iUvp_DTe1q_Z"
      },
      "execution_count": 119,
      "outputs": []
    },
    {
      "cell_type": "code",
      "source": [
        "suicide()"
      ],
      "metadata": {
        "id": "U3xp1QzZRh1q"
      },
      "execution_count": null,
      "outputs": []
    },
    {
      "cell_type": "code",
      "source": [
        "#85% of suicide victimes are males \n",
        "def suicide_male():\n",
        "  result = 0 \n",
        "  for i in range(data.shape[0]):\n",
        "    if data[i,0] == 'Suicide':\n",
        "      if data[i, 1] == 'Male':\n",
        "        result += data[i,4]\n",
        "  return result/np.sum(data[:,4])*100"
      ],
      "metadata": {
        "id": "EbQ-1rxNEc4I"
      },
      "execution_count": 144,
      "outputs": []
    },
    {
      "cell_type": "code",
      "source": [
        "suicide_male()"
      ],
      "metadata": {
        "colab": {
          "base_uri": "https://localhost:8080/"
        },
        "id": "iRKyBd_5RxSZ",
        "outputId": "ccad4db5-946f-4aa6-a858-17a6d74898b7"
      },
      "execution_count": 145,
      "outputs": [
        {
          "output_type": "execute_result",
          "data": {
            "text/plain": [
              "13.51352356858514"
            ]
          },
          "metadata": {},
          "execution_count": 145
        }
      ]
    },
    {
      "cell_type": "code",
      "source": [
        "#1/3 all gun deaths are homicide\n",
        "def homicide():\n",
        "  result = 0 \n",
        "  for i in range(data.shape[0]):\n",
        "    if data[i,0] == 'Homicide':\n",
        "        result += data[i,4]\n",
        "  return result/np.sum(data[:,4])"
      ],
      "metadata": {
        "id": "CPRKATEJAYTB"
      },
      "execution_count": 153,
      "outputs": []
    },
    {
      "cell_type": "code",
      "source": [
        "homicide()"
      ],
      "metadata": {
        "colab": {
          "base_uri": "https://localhost:8080/"
        },
        "id": "tBgNmiPgCMqy",
        "outputId": "e2967c96-61c9-4355-e9ed-b1f26968392d"
      },
      "execution_count": 155,
      "outputs": [
        {
          "output_type": "execute_result",
          "data": {
            "text/plain": [
              "0.17450053945459282"
            ]
          },
          "metadata": {},
          "execution_count": 155
        }
      ]
    },
    {
      "cell_type": "code",
      "source": [
        "#Around two-thirds of homicide victims who are males in the age-group of 15--34 are black\n",
        "def suicide_male():\n",
        "  black = 0 \n",
        "  total = 0 \n",
        "  for i in range(data.shape[0]):\n",
        "    if data[i,0] == 'Homicide':\n",
        "      if data[i, 1] == 'Male' and data[i, 2] == '15 - 34' :\n",
        "        if data[i, 3] == 'Black' :\n",
        "          black += data[i,4]\n",
        "        total += data[i,4]\n",
        "  return black/total"
      ],
      "metadata": {
        "id": "0kE6N4FFSYj-"
      },
      "execution_count": 162,
      "outputs": []
    },
    {
      "cell_type": "code",
      "source": [
        "suicide_male()"
      ],
      "metadata": {
        "colab": {
          "base_uri": "https://localhost:8080/"
        },
        "id": "il2oe7C5S970",
        "outputId": "1e0eabc5-aafe-4575-ae50-aec0a0b05d8f"
      },
      "execution_count": 163,
      "outputs": [
        {
          "output_type": "execute_result",
          "data": {
            "text/plain": [
              "0.33064949006977995"
            ]
          },
          "metadata": {},
          "execution_count": 163
        }
      ]
    },
    {
      "cell_type": "code",
      "source": [
        "#Women constitue only 15 percent of the total homicide victims.\n",
        "def homicide_women():\n",
        "  female = 0\n",
        "  total = 0 \n",
        "  for i in range(data.shape[0]):\n",
        "    if data[i,0] == 'Homicide':\n",
        "      if data[i, 1] == 'Female' :\n",
        "          female += data[i,4]\n",
        "      total += data[i,4]\n",
        "  return female/total*100"
      ],
      "metadata": {
        "id": "sjN1OIrnS_S3"
      },
      "execution_count": 164,
      "outputs": []
    },
    {
      "cell_type": "code",
      "source": [
        "homicide_women()"
      ],
      "metadata": {
        "colab": {
          "base_uri": "https://localhost:8080/"
        },
        "id": "039mkNxkThu5",
        "outputId": "4083fac2-6ef2-4481-a91b-4d568a848160"
      },
      "execution_count": 165,
      "outputs": [
        {
          "output_type": "execute_result",
          "data": {
            "text/plain": [
              "7.640073341292854"
            ]
          },
          "metadata": {},
          "execution_count": 165
        }
      ]
    },
    {
      "cell_type": "code",
      "source": [],
      "metadata": {
        "id": "XGSzrIiQTjpq"
      },
      "execution_count": null,
      "outputs": []
    }
  ]
}