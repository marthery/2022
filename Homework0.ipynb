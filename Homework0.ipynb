{
  "nbformat": 4,
  "nbformat_minor": 0,
  "metadata": {
    "colab": {
      "provenance": [],
      "authorship_tag": "ABX9TyNN2IGaPZw3Pvs3vR4PJopL",
      "include_colab_link": true
    },
    "kernelspec": {
      "name": "python3",
      "display_name": "Python 3"
    },
    "language_info": {
      "name": "python"
    }
  },
  "cells": [
    {
      "cell_type": "markdown",
      "metadata": {
        "id": "view-in-github",
        "colab_type": "text"
      },
      "source": [
        "<a href=\"https://colab.research.google.com/github/marthery/2022/blob/lab1/Homework0.ipynb\" target=\"_parent\"><img src=\"https://colab.research.google.com/assets/colab-badge.svg\" alt=\"Open In Colab\"/></a>"
      ]
    },
    {
      "cell_type": "markdown",
      "source": [
        "Nearly two-thirds of gun deaths are suicides.\n",
        "More than 85 percent of suicide victims are male.\n",
        "Around a third of all gun deaths are homicides.\n",
        "Around two-thirds of homicide victims who are males in the age-group of 15--34 are black.\n",
        "Women constitue only 15 percent of the total homicide victims.\n",
        "It's not necessary to generate visualizations for the results -- numbers should be more than enough to convince yourself that you were able to reproduce the results of that article."
      ],
      "metadata": {
        "id": "yJniOzafzAqM"
      }
    },
    {
      "cell_type": "markdown",
      "source": [
        "# Import"
      ],
      "metadata": {
        "id": "44Ve6Z0-RROp"
      }
    },
    {
      "cell_type": "code",
      "source": [
        "import numpy as np\n",
        "import pandas as pd\n",
        "import matplotlib.pyplot as plt\n",
        "%matplotlib inline"
      ],
      "metadata": {
        "id": "xAWxgdNbzjCI"
      },
      "execution_count": 2,
      "outputs": []
    },
    {
      "cell_type": "code",
      "source": [
        "df = pd.read_csv('https://raw.githubusercontent.com/fivethirtyeight/guns-data/master/full_data.csv')"
      ],
      "metadata": {
        "id": "z9Pp5xNGzj_G"
      },
      "execution_count": 3,
      "outputs": []
    },
    {
      "cell_type": "code",
      "source": [
        "print(df.apply(lambda col: col.unique()))"
      ],
      "metadata": {
        "colab": {
          "base_uri": "https://localhost:8080/"
        },
        "id": "mL6tt8UN1lCl",
        "outputId": "e8d00f22-a65e-46a1-a7a9-8bed088ba082"
      },
      "execution_count": 4,
      "outputs": [
        {
          "output_type": "stream",
          "name": "stdout",
          "text": [
            "Unnamed: 0    [1, 2, 3, 4, 5, 6, 7, 8, 9, 10, 11, 12, 13, 14...\n",
            "year                                         [2012, 2013, 2014]\n",
            "month                   [1, 2, 3, 4, 5, 6, 7, 8, 9, 10, 11, 12]\n",
            "intent        [Suicide, Undetermined, Accidental, Homicide, ...\n",
            "police                                                   [0, 1]\n",
            "sex                                                      [M, F]\n",
            "age           [34.0, 21.0, 60.0, 64.0, 31.0, 17.0, 48.0, 41....\n",
            "race          [Asian/Pacific Islander, White, Native America...\n",
            "hispanic      [100, 998, 281, 211, 261, 210, 222, 282, 260, ...\n",
            "place         [Home, Street, Other specified, nan, Other uns...\n",
            "education        [BA+, Some college, HS/GED, Less than HS, nan]\n",
            "dtype: object\n"
          ]
        }
      ]
    },
    {
      "cell_type": "code",
      "source": [
        "data = df.to_numpy()\n",
        "data = data[:,1:]"
      ],
      "metadata": {
        "id": "SZd3xNc087if"
      },
      "execution_count": 8,
      "outputs": []
    },
    {
      "cell_type": "markdown",
      "source": [
        "#Analysis"
      ],
      "metadata": {
        "id": "GcOsWU3HRWBL"
      }
    },
    {
      "cell_type": "code",
      "source": [
        "#Example of one line of data\n",
        "data[56]"
      ],
      "metadata": {
        "colab": {
          "base_uri": "https://localhost:8080/"
        },
        "id": "VHBB6zjuR_ck",
        "outputId": "190c5ef7-8c00-4154-c491-c2be86c6a38c"
      },
      "execution_count": 9,
      "outputs": [
        {
          "output_type": "execute_result",
          "data": {
            "text/plain": [
              "array([2012, 7, 'Accidental', 0, 'M', 12.0, 'Black', 100, 'Home',\n",
              "       'Less than HS'], dtype=object)"
            ]
          },
          "metadata": {},
          "execution_count": 9
        }
      ]
    },
    {
      "cell_type": "code",
      "source": [
        "#2/3 of gun death are suicidal\n",
        "def suicide():\n",
        "  result = 0\n",
        "  for i in range(data.shape[0]):\n",
        "    if data[i, 2] == 'Suicide' : \n",
        "        result += 1\n",
        "  return result/data.shape[0]"
      ],
      "metadata": {
        "id": "iUvp_DTe1q_Z"
      },
      "execution_count": 21,
      "outputs": []
    },
    {
      "cell_type": "code",
      "source": [
        "suicide()"
      ],
      "metadata": {
        "id": "U3xp1QzZRh1q",
        "colab": {
          "base_uri": "https://localhost:8080/"
        },
        "outputId": "ad0471e7-b4ed-434c-cec3-9935fde12238"
      },
      "execution_count": 22,
      "outputs": [
        {
          "output_type": "execute_result",
          "data": {
            "text/plain": [
              "0.6267485465981468"
            ]
          },
          "metadata": {},
          "execution_count": 22
        }
      ]
    },
    {
      "cell_type": "code",
      "source": [
        "#85% of suicide victimes are males \n",
        "def suicide_male():\n",
        "  result = 0 \n",
        "  for i in range(data.shape[0]):\n",
        "    if data[i,2] == 'Suicide'and data[i, 4] == 'M':\n",
        "        result += 1\n",
        "  return result/data.shape[0]*100"
      ],
      "metadata": {
        "id": "EbQ-1rxNEc4I"
      },
      "execution_count": 64,
      "outputs": []
    },
    {
      "cell_type": "code",
      "source": [
        "suicide_male()"
      ],
      "metadata": {
        "colab": {
          "base_uri": "https://localhost:8080/"
        },
        "id": "iRKyBd_5RxSZ",
        "outputId": "23e9d33e-8e2c-4f5a-d598-ab430afd8455"
      },
      "execution_count": 65,
      "outputs": [
        {
          "output_type": "execute_result",
          "data": {
            "text/plain": [
              "54.05464394134805"
            ]
          },
          "metadata": {},
          "execution_count": 65
        }
      ]
    },
    {
      "cell_type": "code",
      "source": [
        "#1/3 all gun deaths are homicide\n",
        "def homicide():\n",
        "  result = 0 \n",
        "  for i in range(data.shape[0]):\n",
        "    if data[i,2] == 'Homicide':\n",
        "        result += 1\n",
        "  return result/data.shape[0]"
      ],
      "metadata": {
        "id": "CPRKATEJAYTB"
      },
      "execution_count": 25,
      "outputs": []
    },
    {
      "cell_type": "code",
      "source": [
        "homicide()"
      ],
      "metadata": {
        "colab": {
          "base_uri": "https://localhost:8080/"
        },
        "id": "tBgNmiPgCMqy",
        "outputId": "2ef5bebc-2991-4964-f329-f4f967fc5a25"
      },
      "execution_count": 26,
      "outputs": [
        {
          "output_type": "execute_result",
          "data": {
            "text/plain": [
              "0.34897517807893014"
            ]
          },
          "metadata": {},
          "execution_count": 26
        }
      ]
    },
    {
      "cell_type": "code",
      "source": [
        "#Around two-thirds of homicide victims who are males in the age-group of 15--34 are black\n",
        "def homicide_black():\n",
        "  black = 0 \n",
        "  total = 0 \n",
        "  for i in range(data.shape[0]):\n",
        "    if data[i,2] == 'Homicide' and data[i, 4] == 'M' and data[i, 5] > 15.0 and data[i, 5] < 34.0 :\n",
        "      if data[i, 6] == 'Black' :\n",
        "        black += 1\n",
        "      total += 1\n",
        "  return black/total"
      ],
      "metadata": {
        "id": "0kE6N4FFSYj-"
      },
      "execution_count": 56,
      "outputs": []
    },
    {
      "cell_type": "code",
      "source": [
        "homicide_black()"
      ],
      "metadata": {
        "colab": {
          "base_uri": "https://localhost:8080/"
        },
        "id": "il2oe7C5S970",
        "outputId": "44f2aefd-191f-443b-a41f-15ba9bd70b73"
      },
      "execution_count": 57,
      "outputs": [
        {
          "output_type": "execute_result",
          "data": {
            "text/plain": [
              "0.6641558162057463"
            ]
          },
          "metadata": {},
          "execution_count": 57
        }
      ]
    },
    {
      "cell_type": "code",
      "source": [
        "#Women constitue only 15 percent of the total homicide victims.\n",
        "def homicide_women():\n",
        "  female = 0\n",
        "  total = 0 \n",
        "  for i in range(data.shape[0]):\n",
        "    if data[i,2] == 'Homicide':\n",
        "      if data[i, 4] == 'F' :\n",
        "          female += 1\n",
        "      total += 1\n",
        "  return female/total*100"
      ],
      "metadata": {
        "id": "sjN1OIrnS_S3"
      },
      "execution_count": 58,
      "outputs": []
    },
    {
      "cell_type": "code",
      "source": [
        "homicide_women()"
      ],
      "metadata": {
        "colab": {
          "base_uri": "https://localhost:8080/"
        },
        "id": "039mkNxkThu5",
        "outputId": "b1efbe49-4339-4381-d438-3ab2a429ee7c"
      },
      "execution_count": 59,
      "outputs": [
        {
          "output_type": "execute_result",
          "data": {
            "text/plain": [
              "15.274619058448943"
            ]
          },
          "metadata": {},
          "execution_count": 59
        }
      ]
    },
    {
      "cell_type": "code",
      "source": [],
      "metadata": {
        "id": "XGSzrIiQTjpq"
      },
      "execution_count": null,
      "outputs": []
    }
  ]
}