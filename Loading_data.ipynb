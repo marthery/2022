{
  "nbformat": 4,
  "nbformat_minor": 0,
  "metadata": {
    "colab": {
      "provenance": [],
      "collapsed_sections": [],
      "authorship_tag": "ABX9TyOxNtnQTnPq4dA2tBDf88Qf",
      "include_colab_link": true
    },
    "kernelspec": {
      "name": "python3",
      "display_name": "Python 3"
    },
    "language_info": {
      "name": "python"
    }
  },
  "cells": [
    {
      "cell_type": "markdown",
      "metadata": {
        "id": "view-in-github",
        "colab_type": "text"
      },
      "source": [
        "<a href=\"https://colab.research.google.com/github/marthery/2022/blob/main/Loading_data.ipynb\" target=\"_parent\"><img src=\"https://colab.research.google.com/assets/colab-badge.svg\" alt=\"Open In Colab\"/></a>"
      ]
    },
    {
      "cell_type": "markdown",
      "source": [
        "##Data overview\n",
        "\n",
        "Given a vector of features representing the decay signature of a collision event, predict whether this signal was a **Higgs Boston (s, 1) or background (b, -1)**. \n",
        "\n",
        "We are provided with a train dataset and a test one. We will create a validation test as well. \n",
        "\n",
        "Here are a summary of the different features in the train dataset:\n",
        "\n",
        "*The file starts with the ID column, then the label column (the y you have to predict), and finally 30 feature columns.*\n",
        "\n",
        "###Some details to get started:\n",
        "\n",
        "all variables are floating point, except PRI_jet_num which is integer\n",
        "variables prefixed with PRI (for PRImitives) are “raw” quantities about the bunch collision as measured by the detector.\n",
        "variables prefixed with DER (for DERived) are quantities computed from the primitive features, which were selected by the physicists of ATLAS.\n",
        "it can happen that for some entries some variables are meaningless or cannot be computed; in this case, their value is −999.0, which is outside the normal range of all variables.\n"
      ],
      "metadata": {
        "id": "jziNxXuqjBT9"
      }
    },
    {
      "cell_type": "markdown",
      "source": [
        "## Creating train/validation/test arrays"
      ],
      "metadata": {
        "id": "o5WAJUPTj_R5"
      }
    },
    {
      "cell_type": "code",
      "source": [
        "# Useful starting lines\n",
        "%matplotlib inline\n",
        "import numpy as np\n",
        "import matplotlib.pyplot as plt\n",
        "%load_ext autoreload\n",
        "%autoreload 2\n",
        "import datetime\n",
        "import csv"
      ],
      "metadata": {
        "colab": {
          "base_uri": "https://localhost:8080/"
        },
        "id": "dTphkQ-YT8zO",
        "outputId": "07174a40-15af-44fa-8b27-7bf1b342fae3"
      },
      "execution_count": 80,
      "outputs": [
        {
          "output_type": "stream",
          "name": "stdout",
          "text": [
            "The autoreload extension is already loaded. To reload it, use:\n",
            "  %reload_ext autoreload\n"
          ]
        }
      ]
    },
    {
      "cell_type": "code",
      "source": [
        "def load_data(path_dataset):\n",
        "    \"\"\"Load data\"\"\"\n",
        "    X = np.genfromtxt(\n",
        "        path_dataset, delimiter=\",\", skip_header=1)\n",
        "    y = np.genfromtxt(\n",
        "        path_dataset, delimiter=\",\", skip_header=1, dtype=str, usecols=1)\n",
        "    x_indices = X[:,0]\n",
        "\n",
        "    #Take x and add columns of ones \n",
        "    x = X[:, 2:]\n",
        "    num_samples = len(y)\n",
        "    tx = np.c_[np.ones(num_samples), x]\n",
        "\n",
        "    #Convert y to binary values (0 and 1) QUESTION: should we do -1 and 1 instead? \n",
        "    binary_y = np.zeros([len(y)])\n",
        "    for i in range(len(y)):\n",
        "      if y[i] == 's':\n",
        "        binary_y[i]=1\n",
        "    return tx, binary_y, x_indices\n",
        "\n",
        "#TO COMPLETE LATER\n",
        "def train_validation_dataset(x, y, percent):\n",
        "    \"\"\"Generate the train/validation x and y by shuffling the dataset. \n",
        "    Percent represents the percentage of training set that is going to be used for creating the validation set\"\"\"\n",
        "    data_size = len(y)\n",
        "\n",
        "    shuffle_indices = np.random.permutation(np.arange(data_size))\n",
        "    shuffled_y = y[shuffle_indices]\n",
        "    shuffled_x = x[shuffle_indices]\n",
        "\n",
        "    start_index = 0\n",
        "    end_index = data_size * percent\n",
        "    if start_index != end_index:\n",
        "      yield shuffled_y[start_index:end_index], shuffled_x[start_index:end_index]"
      ],
      "metadata": {
        "id": "PRHns2uNi5KM"
      },
      "execution_count": 81,
      "outputs": []
    },
    {
      "cell_type": "code",
      "source": [
        "def standardize(x):\n",
        "    \"\"\"Standardize the original data set.\"\"\"\n",
        "    mean_x = np.mean(x)\n",
        "    x = x - mean_x\n",
        "    std_x = np.std(x)\n",
        "    x = x / std_x\n",
        "    return x, mean_x, std_x"
      ],
      "metadata": {
        "id": "Iqa1iIsRV0VN"
      },
      "execution_count": 98,
      "outputs": []
    },
    {
      "cell_type": "code",
      "source": [
        "#Create training/testing set\n",
        "#Preprocessed data : standardization, missing values, a lot of missing values with -999\n",
        "tx, y, x_indices = load_data('train.csv')"
      ],
      "metadata": {
        "id": "Wfxl-Jr5thAR"
      },
      "execution_count": 82,
      "outputs": []
    },
    {
      "cell_type": "code",
      "source": [
        "tx, mean_tx, std_tx = standardize(tx)"
      ],
      "metadata": {
        "id": "p1pT1nJdV21X"
      },
      "execution_count": 99,
      "outputs": []
    },
    {
      "cell_type": "markdown",
      "source": [
        "## Least Squares GD"
      ],
      "metadata": {
        "id": "ZAz_WeF4MSov"
      }
    },
    {
      "cell_type": "code",
      "source": [
        "def compute_loss(y, tx, w):\n",
        "    \"\"\"Calculate the loss using either MSE.\"\"\"\n",
        "    e = np.square(y - np.dot(tx,w))\n",
        "    return np.sum(e)/len(y)"
      ],
      "metadata": {
        "id": "01VUZi0ZSGt3"
      },
      "execution_count": 97,
      "outputs": []
    },
    {
      "cell_type": "code",
      "source": [
        "def compute_gradient(y, tx, w):\n",
        "    \"\"\"Computes the gradient at w. \n",
        "    Returns an numpy array of shape (31, ) (same shape as w), containing the gradient of the loss at w.\"\"\"\n",
        "    e = y - np.dot(tx,w)\n",
        "    return -np.dot(np.transpose(tx), e)/len(y)"
      ],
      "metadata": {
        "id": "X4tBkkRqSkMf"
      },
      "execution_count": 92,
      "outputs": []
    },
    {
      "cell_type": "code",
      "source": [
        "def least_squares_GD(y, tx, initial_w, max_iters, gamma):\n",
        "    \"\"\"The Gradient Descent (GD) algorithm using MSE cost function.\"\"\"\n",
        "    w = initial_w\n",
        "    losses = []\n",
        "    for n_iter in range(max_iters):\n",
        "      loss = compute_loss(y, tx, w)\n",
        "      gradient = compute_gradient(y, tx, w)\n",
        "      w = w - np.dot(gradient, gamma)\n",
        "      losses.append(loss)\n",
        "    return w, loss, losses"
      ],
      "metadata": {
        "id": "kb7rUoX2T1UR"
      },
      "execution_count": 93,
      "outputs": []
    },
    {
      "cell_type": "code",
      "source": [
        "# Define the parameters of the algorithm.\n",
        "max_iters = 1000\n",
        "gamma = 0.01\n",
        "initial_w = np.ones([31])\n",
        "w, loss, losses = least_squares_GD (y, tx, initial_w, max_iters, gamma)"
      ],
      "metadata": {
        "id": "x_L-wyxfJDZF"
      },
      "execution_count": 100,
      "outputs": []
    },
    {
      "cell_type": "code",
      "source": [
        "plt.plot(np.log(losses))\n",
        "plt.xlabel('iteration')\n",
        "plt.ylabel('log loss')"
      ],
      "metadata": {
        "colab": {
          "base_uri": "https://localhost:8080/",
          "height": 296
        },
        "id": "_fZPhm79p1Uj",
        "outputId": "bbc45f43-3678-43ee-bb2e-4a6a62f9c00a"
      },
      "execution_count": 102,
      "outputs": [
        {
          "output_type": "execute_result",
          "data": {
            "text/plain": [
              "Text(0, 0.5, 'log loss')"
            ]
          },
          "metadata": {},
          "execution_count": 102
        },
        {
          "output_type": "display_data",
          "data": {
            "text/plain": [
              "<Figure size 432x288 with 1 Axes>"
            ],
            "image/png": "[encoded data removed]"
          },
          "metadata": {
            "needs_background": "light"
          }
        }
      ]
    },
    {
      "cell_type": "code",
      "source": [
        "plt.plot(losses)\n",
        "plt.xlabel('iteration')\n",
        "plt.ylabel('loss')"
      ],
      "metadata": {
        "colab": {
          "base_uri": "https://localhost:8080/",
          "height": 296
        },
        "id": "s2caRWX4M_58",
        "outputId": "a6872a6d-63d4-4ecd-e287-07287549d59c"
      },
      "execution_count": 101,
      "outputs": [
        {
          "output_type": "execute_result",
          "data": {
            "text/plain": [
              "Text(0, 0.5, 'loss')"
            ]
          },
          "metadata": {},
          "execution_count": 101
        },
        {
          "output_type": "display_data",
          "data": {
            "text/plain": [
              "<Figure size 432x288 with 1 Axes>"
            ],
            "image/png": "[encoded data removed]"
          },
          "metadata": {
            "needs_background": "light"
          }
        }
      ]
    },
    {
      "cell_type": "markdown",
      "source": [
        "## Least Squares SGD"
      ],
      "metadata": {
        "id": "ECF1LibfMWwk"
      }
    },
    {
      "cell_type": "code",
      "source": [
        "def batch_iter(y, tx, batch_size, num_batches=1, shuffle=True):\n",
        "    data_size = len(y)\n",
        "\n",
        "    if shuffle:\n",
        "        shuffle_indices = np.random.permutation(np.arange(data_size))\n",
        "        shuffled_y = y[shuffle_indices]\n",
        "        shuffled_tx = tx[shuffle_indices]\n",
        "    else:\n",
        "        shuffled_y = y\n",
        "        shuffled_tx = tx\n",
        "    for batch_num in range(num_batches):\n",
        "        start_index = batch_num * batch_size\n",
        "        end_index = min((batch_num + 1) * batch_size, data_size)\n",
        "        if start_index != end_index:\n",
        "            yield shuffled_y[start_index:end_index], shuffled_tx[start_index:end_index]"
      ],
      "metadata": {
        "id": "RLO6T5Z8SCK3"
      },
      "execution_count": 103,
      "outputs": []
    },
    {
      "cell_type": "code",
      "source": [
        "def least_squares_SGD(y, tx, initial_w, max_iters, gamma):\n",
        "    batch_size = 100\n",
        "    losses = []\n",
        "    w = initial_w\n",
        "    for n_iter in range(max_iters):\n",
        "      for y_batch, tx_batch in batch_iter(y,tx, batch_size): \n",
        "        loss = compute_loss(y_batch, tx_batch, w)\n",
        "        gradient = compute_gradient(y_batch, tx_batch, w)\n",
        "        w = w - np.dot(gradient, gamma)\n",
        "        losses.append(loss)\n",
        "    return w, loss, losses"
      ],
      "metadata": {
        "id": "EbNUDtNnLRAV"
      },
      "execution_count": 110,
      "outputs": []
    },
    {
      "cell_type": "code",
      "source": [
        "#Must use mini batch size, I don't understand why\n",
        "w_sgd, loss_sgd, losses_sgd = least_squares_SGD(y, tx, initial_w, max_iters, gamma)"
      ],
      "metadata": {
        "id": "1ISp7l0NSibF"
      },
      "execution_count": 111,
      "outputs": []
    },
    {
      "cell_type": "code",
      "source": [
        "plt.plot(np.log(losses_sgd))\n",
        "plt.xlabel('iteration')\n",
        "plt.ylabel('log loss')"
      ],
      "metadata": {
        "colab": {
          "base_uri": "https://localhost:8080/",
          "height": 296
        },
        "id": "tdKNb_CMXXRi",
        "outputId": "61ad636c-6409-42cf-8fc9-c9d6f89a2fe7"
      },
      "execution_count": 115,
      "outputs": [
        {
          "output_type": "execute_result",
          "data": {
            "text/plain": [
              "Text(0, 0.5, 'log loss')"
            ]
          },
          "metadata": {},
          "execution_count": 115
        },
        {
          "output_type": "display_data",
          "data": {
            "text/plain": [
              "<Figure size 432x288 with 1 Axes>"
            ],
            "image/png": "[encoded data removed]"
          },
          "metadata": {
            "needs_background": "light"
          }
        }
      ]
    },
    {
      "cell_type": "code",
      "source": [
        "plt.plot(losses_sgd)\n",
        "plt.xlabel('iteration')\n",
        "plt.ylabel('loss')"
      ],
      "metadata": {
        "colab": {
          "base_uri": "https://localhost:8080/",
          "height": 296
        },
        "id": "Dn9m9sfMStuv",
        "outputId": "4ee05331-7ec4-4dc5-c3fa-57852a503dcc"
      },
      "execution_count": 116,
      "outputs": [
        {
          "output_type": "execute_result",
          "data": {
            "text/plain": [
              "Text(0, 0.5, 'loss')"
            ]
          },
          "metadata": {},
          "execution_count": 116
        },
        {
          "output_type": "display_data",
          "data": {
            "text/plain": [
              "<Figure size 432x288 with 1 Axes>"
            ],
            "image/png": "[encoded data removed]"
          },
          "metadata": {
            "needs_background": "light"
          }
        }
      ]
    },
    {
      "cell_type": "code",
      "source": [],
      "metadata": {
        "id": "8Ccjt_QAXdGK"
      },
      "execution_count": null,
      "outputs": []
    }
  ]
}